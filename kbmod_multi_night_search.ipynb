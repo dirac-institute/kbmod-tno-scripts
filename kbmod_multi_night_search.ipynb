{
 "cells": [
  {
   "cell_type": "markdown",
   "metadata": {},
   "source": [
    "# KBMOD Search for Multi-Night Results\n",
    "  \n",
    "A basic notebook to demonstrate searching results that appear across multiple nights.\n",
    "\n",
    "Note that this notebook is intended to be run using shared data on baldur."
   ]
  },
  {
   "cell_type": "markdown",
   "metadata": {},
   "source": [
    "# Setup demo\n",
    "\n",
    "Before importing, make sure you have installed kbmod using `pip install .` in the root `KBMOD` directory.  Also be sure you are running with python3 and using the correct notebook kernel."
   ]
  },
  {
   "cell_type": "code",
   "execution_count": 1,
   "metadata": {},
   "outputs": [],
   "source": [
    "import math\n",
    "import matplotlib.pyplot as plt\n",
    "import numpy as np\n",
    "import os\n",
    "\n",
    "import kbmod\n",
    "from kbmod.analysis.plotting import *\n",
    "from kbmod.data_interface import load_deccam_layered_image\n",
    "from kbmod.search import ImageStack, PSF, StampCreator, Trajectory\n",
    "from kbmod.results import Results\n",
    "from kbmod.work_unit import WorkUnit\n",
    "from kbmod.trajectory_generator import VelocityGridSearch\n",
    "from kbmod.trajectory_utils import trajectory_predict_skypos\n",
    "\n",
    "from kbmod.trajectory_explorer import TrajectoryExplorer\n",
    "\n",
    "from astropy.coordinates import SkyCoord, search_around_sky\n",
    "import astropy.units as u\n",
    "from astropy.table import Table\n",
    "import astropy.time "
   ]
  },
  {
   "cell_type": "code",
   "execution_count": 2,
   "metadata": {},
   "outputs": [],
   "source": [
    "# Data paths\n",
    "wu_path = \"/epyc/projects/kbmod/runs/wbeebe/20240609_42au/slice0/reprojected_wu.fits\"  # A reflex-corrected WorkUnit\n",
    "res_path = \"/epyc/projects/kbmod/runs/wbeebe/20240609_42au/slice0\"\n",
    "\n",
    "# Path to known fakes (with reflex-corrected) coordinates on the dates used in this KBMOD search.\n",
    "fakes_path = \"/epyc/projects/kbmod/runs/wbeebe/fakes_42_au_2019_04_02_and_2019_05_07.csv\""
   ]
  },
  {
   "cell_type": "markdown",
   "metadata": {},
   "source": [
    "# Reload a Saved KBMOD WorkUnit\n",
    "Note that this WorkUnit was reflex-corrected with a guess distance of 42 AU.\n",
    "\n",
    "By reloading the WorkUnit, we're able to recreate the stamps for individual observations in any given trajectory"
   ]
  },
  {
   "cell_type": "code",
   "execution_count": null,
   "metadata": {},
   "outputs": [
    {
     "name": "stderr",
     "output_type": "stream",
     "text": [
      "Setting unknown parameter: cluster_function\n",
      "Setting unknown parameter: num_cores\n"
     ]
    }
   ],
   "source": [
    "wu = WorkUnit.from_fits(wu_path)\n",
    "\n",
    "stack = wu.im_stack\n",
    "\n",
    "print(f\"Loaded stack with {stack.img_count()} images\")"
   ]
  },
  {
   "cell_type": "markdown",
   "metadata": {},
   "source": [
    "# Reload KBMOD Results\n",
    "\n",
    "A KBMOD run will store several files in its results directory. But we can generate a `Results` object (which wraps an astropy Table) from the `results.ecsv`"
   ]
  },
  {
   "cell_type": "code",
   "execution_count": null,
   "metadata": {},
   "outputs": [],
   "source": [
    "results = Results.read_table(os.path.join(res_path, \"results.ecsv\"))\n",
    "results"
   ]
  },
  {
   "cell_type": "markdown",
   "metadata": {},
   "source": [
    "Let's reconstruct the trajectories from our saved results and recreate the stamps for each observation"
   ]
  },
  {
   "cell_type": "code",
   "execution_count": null,
   "metadata": {},
   "outputs": [],
   "source": [
    "trajectories = results.make_trajectory_list()\n",
    "results.table[\"all_stamps\"] = [StampCreator.get_stamps(stack, trj, 10) for trj in trajectories]"
   ]
  },
  {
   "cell_type": "markdown",
   "metadata": {},
   "source": [
    "Add a column to our results for the number of unique days observed for each result based on the MJDs "
   ]
  },
  {
   "cell_type": "code",
   "execution_count": null,
   "metadata": {},
   "outputs": [],
   "source": [
    "def mjd_to_day(mjd):\n",
    "    # Takes a float mjd and converts to a string calendar date\n",
    "    return str(astropy.time.Time(mjd, format='mjd').to_value('datetime')).split()[0]\n",
    "\n",
    "# For each result find the number of unique days observed.\n",
    "num_days = []\n",
    "for idx in range(len(results)):\n",
    "    # Whether an observation was \"valid\" and included in the result\n",
    "    is_valid = results[idx][\"obs_valid\"]\n",
    "    \n",
    "    # Get all of the observation times that were valid and included in the result\n",
    "    valid_obstimes = [] \n",
    "    for i in range(len(is_valid)):\n",
    "        if is_valid[i]:\n",
    "            valid_obstimes.append(stack.get_obstime(i))\n",
    "    \n",
    "    # Convert the obstimes to days and generate the number of days.\n",
    "    num_days.append(len(set([mjd_to_day(t) for t in valid_obstimes])))\n",
    "\n",
    "# Add as a column in the results table\n",
    "results.table[\"num_days\"] = num_days"
   ]
  },
  {
   "cell_type": "markdown",
   "metadata": {},
   "source": [
    "Now for each result, we're interested in plotting the cumulative coadd as well as the coadds consisting only of the observations within a given day for that result."
   ]
  },
  {
   "cell_type": "code",
   "execution_count": null,
   "metadata": {},
   "outputs": [],
   "source": [
    "# Generate coadds per each day to sanity check against the fakes.\n",
    "def plot_daily_coadds(result_table, result_idx):\n",
    "    # Map each day for a result to its coadded stamp\n",
    "    daily_coadds = {}\n",
    "    result_row = result_table[result_idx]\n",
    "    for i in range(stack.img_count()):\n",
    "        if result_row[\"obs_valid\"][i]:\n",
    "            day = mjd_to_day(stack.get_obstime(i))\n",
    "            curr_stamp = result_row[\"all_stamps\"][i]\n",
    "            # Depending on where \"all_stamps\" is generated may be a RawImage\n",
    "            if not isinstance(curr_stamp, np.ndarray):\n",
    "                curr_stamp = curr_stamp.image\n",
    "\n",
    "            if day not in daily_coadds:\n",
    "                # Create the initial coadd\n",
    "                daily_coadds[day] = curr_stamp.copy()\n",
    "            else:\n",
    "                # Add the stamps together\n",
    "                daily_coadds[day] += curr_stamp\n",
    "    \n",
    "    # First we'll plot the full coadd\n",
    "    imgs = [result_table[\"stamp\"][result_idx]]\n",
    "    labels = [f'Coadd for result {result_idx}']\n",
    "    \n",
    "    # Add images and labels for each individual day\n",
    "    for day in daily_coadds:\n",
    "        imgs.append(daily_coadds[day])\n",
    "        labels.append(str(day))\n",
    "    \n",
    "    plot_multiple_images(imgs, labels=labels)"
   ]
  },
  {
   "cell_type": "code",
   "execution_count": null,
   "metadata": {},
   "outputs": [],
   "source": [
    "for i in range(min(len(results),10)):\n",
    "    plot_daily_coadds(results, i)"
   ]
  },
  {
   "cell_type": "code",
   "execution_count": null,
   "metadata": {},
   "outputs": [],
   "source": [
    "for i in range(len(results)):\n",
    "    if results[i][\"num_days\"] >= 2:\n",
    "        plot_daily_coadds(results, i)"
   ]
  },
  {
   "cell_type": "markdown",
   "metadata": {},
   "source": [
    "# Search for results that are near known fakes\n",
    "\n",
    "We have a table of fakes that are present in the data, uniquely identified by the 'ORBITID' column"
   ]
  },
  {
   "cell_type": "code",
   "execution_count": null,
   "metadata": {},
   "outputs": [],
   "source": [
    "fakes = Table.read(fakes_path, format=\"csv\")\n",
    "fakes.sort([\"ORBITID\", \"mjd_mid\"]) # Sort by the unique ORBITID for each fake and then observation time\n",
    "fakes"
   ]
  },
  {
   "cell_type": "markdown",
   "metadata": {},
   "source": [
    "astropy allows us to take two catalogus of coordinates (represented by `SkyCoord` objects) and easily search for nearest neighbors between them. \n",
    "\n",
    "First, as a simple approximation let's translate the initial (x, y) of each of our results into an (ra, dec). Note that we are using a reflex-corrected WCS from our `WorkUnit` so the (ra, dec) will be in reflex-corrected space."
   ]
  },
  {
   "cell_type": "code",
   "execution_count": null,
   "metadata": {},
   "outputs": [],
   "source": [
    "def get_ra_decs_from_trj(idx, result_table, trajectories):\n",
    "    # To generate a trajectory object we need times of each valid observation for this result\n",
    "    is_valid = result_table[idx][\"obs_valid\"]\n",
    "    valid_obstimes = []\n",
    "    for i in range(len(is_valid)):\n",
    "        if is_valid[i]:\n",
    "            valid_obstimes.append(stack.get_obstime(i))\n",
    "    \n",
    "    # Now we can generate (ra, DEC) coordinates for the trajectory using our work unit's WCS\n",
    "    return trajectory_predict_skypos(trajectories[idx], wu.wcs, valid_obstimes)\n",
    "\n",
    "ra_decs = [get_ra_decs_from_trj(i, results, trajectories) for i in range(len(results))]\n",
    "\n",
    "results.table[\"ra_dec_start\"] = [ra_decs[i][0] for i in range(len(results))]\n",
    "results.table[\"ra_dec_end\"] = [ra_decs[i][-1] for i in range(len(results))]"
   ]
  },
  {
   "cell_type": "code",
   "execution_count": null,
   "metadata": {},
   "outputs": [],
   "source": [
    "fakes_guess_ra = \"RA_42.0\"\n",
    "fakes_guess_dec = \"Dec_42.0\""
   ]
  },
  {
   "cell_type": "markdown",
   "metadata": {},
   "source": [
    "Now we can translate our (ra, dec) pairs into single `SkyCoord` objects.\n",
    "\n",
    "Then we can use astopy's `search_around_sky` to find which KBMOD results are near our known fakes, with a max separation limit of 1 arcsecond"
   ]
  },
  {
   "cell_type": "code",
   "execution_count": null,
   "metadata": {},
   "outputs": [],
   "source": [
    "# Get the reflex-corrected (ra, DEC) positions for our fakes  \n",
    "fake_coords = SkyCoord(ra=fakes[fakes_guess_ra] * u.degree, dec=fakes[fakes_guess_dec] * u.degree)\n",
    "\n",
    "# Performe the search for if our trajectory start positions were near any fakes\n",
    "idx1, idx2, sep2dAngle, dist3d = search_around_sky(results[\"ra_dec_start\"], fake_coords, 1 * u.arcsecond)"
   ]
  },
  {
   "cell_type": "markdown",
   "metadata": {},
   "source": [
    "`idx1` Maps fakes to their nearest neighbors in the results. Each value is an index to a potential finding within our results table."
   ]
  },
  {
   "cell_type": "code",
   "execution_count": null,
   "metadata": {},
   "outputs": [],
   "source": [
    "print(len(idx1))\n",
    "idx1"
   ]
  },
  {
   "cell_type": "code",
   "execution_count": null,
   "metadata": {},
   "outputs": [],
   "source": [
    "idx2"
   ]
  },
  {
   "cell_type": "code",
   "execution_count": null,
   "metadata": {},
   "outputs": [],
   "source": [
    "potential_fake_starts = np.unique(idx1)\n",
    "potential_fake_starts"
   ]
  },
  {
   "cell_type": "markdown",
   "metadata": {},
   "source": [
    "Let's first examine the first result which we believe might be a fake."
   ]
  },
  {
   "cell_type": "code",
   "execution_count": null,
   "metadata": {},
   "outputs": [],
   "source": [
    "results[potential_fake_starts[0]]"
   ]
  },
  {
   "cell_type": "code",
   "execution_count": null,
   "metadata": {},
   "outputs": [],
   "source": [
    "# helper function to plot a row of the results table\n",
    "plot_result_row(results[potential_fake_starts[0]])"
   ]
  },
  {
   "cell_type": "code",
   "execution_count": null,
   "metadata": {},
   "outputs": [],
   "source": [
    "plot_daily_coadds(results, potential_fake_starts[0])"
   ]
  },
  {
   "cell_type": "markdown",
   "metadata": {},
   "source": [
    "`idx2` shows the inverse mapping of which fakes might be potential results. Here its values are indices within our fakes table.\n",
    "\n",
    "So taking the first potential match we examined above, we can use the corresponding index (in this case 0) to inspect within our fakes table.\n"
   ]
  },
  {
   "cell_type": "code",
   "execution_count": null,
   "metadata": {},
   "outputs": [],
   "source": [
    "fakes[idx2[0]][\"ORBITID\"]"
   ]
  },
  {
   "cell_type": "code",
   "execution_count": null,
   "metadata": {},
   "outputs": [],
   "source": [
    "def find_fakes_matches(fakes_table, idx1, idx2):\n",
    "    # Matches a result's index index in the results table to its corresponding fake orbit ID\n",
    "    matches = {}\n",
    "    for i in range(len(idx1)):\n",
    "        if idx1[i] not in matches:\n",
    "            matches[idx1[i]] = set()\n",
    "        matches[idx1[i]].add(fakes[idx2[i]][\"ORBITID\"])\n",
    "        \n",
    "    return matches\n",
    "    \n",
    "result_start_to_fakes = find_fakes_matches(fakes, idx1, idx2)\n",
    "result_start_to_fakes\n",
    "    "
   ]
  },
  {
   "cell_type": "code",
   "execution_count": null,
   "metadata": {},
   "outputs": [],
   "source": [
    "fakes[fakes[\"ORBITID\"] == 4661373]"
   ]
  },
  {
   "cell_type": "markdown",
   "metadata": {},
   "source": [
    "# Now see if the end points of any of the trajectories are also near the endpoints of our fakes"
   ]
  },
  {
   "cell_type": "code",
   "execution_count": null,
   "metadata": {},
   "outputs": [],
   "source": [
    "idx1_end, idx2_end, sep2dAngle_end, dist3d_end = search_around_sky(results[\"ra_dec_end\"], fake_coords, 1 * u.arcsecond)"
   ]
  },
  {
   "cell_type": "code",
   "execution_count": null,
   "metadata": {},
   "outputs": [],
   "source": [
    "idx1_end"
   ]
  },
  {
   "cell_type": "code",
   "execution_count": null,
   "metadata": {},
   "outputs": [],
   "source": [
    "idx2_end"
   ]
  },
  {
   "cell_type": "code",
   "execution_count": null,
   "metadata": {},
   "outputs": [],
   "source": [
    "potential_fake_ends = np.unique(idx1_end)\n",
    "potential_fake_ends"
   ]
  },
  {
   "cell_type": "code",
   "execution_count": null,
   "metadata": {},
   "outputs": [],
   "source": [
    "result_end_to_fakes = find_fakes_matches(fakes, idx1_end, idx2_end)\n",
    "result_end_to_fakes"
   ]
  },
  {
   "cell_type": "markdown",
   "metadata": {},
   "source": [
    "# Look for Fakes Matching Both the Start and Endpoint"
   ]
  },
  {
   "cell_type": "code",
   "execution_count": null,
   "metadata": {},
   "outputs": [],
   "source": [
    "# Maps of result indices that could be matched to a fake for both their start and end coordinate\n",
    "result_full_fake_match = {}\n",
    "for r in result_start_to_fakes:\n",
    "    # Check for results that also were matched to a fake for their end coordinate\n",
    "    if r in result_end_to_fakes:\n",
    "        shared_fakes = result_start_to_fakes[r].intersection(result_end_to_fakes[r])\n",
    "        if len(shared_fakes) > 0:\n",
    "            result_full_fake_match[r] = shared_fakes\n",
    "result_full_fake_match"
   ]
  },
  {
   "cell_type": "code",
   "execution_count": null,
   "metadata": {},
   "outputs": [],
   "source": [
    "for idx in result_start_to_fakes:\n",
    "    plot_daily_coadds(results, idx)"
   ]
  },
  {
   "cell_type": "markdown",
   "metadata": {},
   "source": [
    "Result 237 is interesting, since it's a multi-day result matched to a fake, but doesn't have a clean coadd on its second day. Let's get it's fake ORBITID and examine it some more"
   ]
  },
  {
   "cell_type": "code",
   "execution_count": null,
   "metadata": {},
   "outputs": [],
   "source": [
    "result_full_fake_match[237]"
   ]
  },
  {
   "cell_type": "code",
   "execution_count": null,
   "metadata": {},
   "outputs": [],
   "source": [
    "4661373"
   ]
  },
  {
   "cell_type": "markdown",
   "metadata": {},
   "source": []
  },
  {
   "cell_type": "code",
   "execution_count": null,
   "metadata": {},
   "outputs": [],
   "source": []
  },
  {
   "cell_type": "markdown",
   "metadata": {},
   "source": [
    "# Examine a given Fake\n",
    "\n",
    "Let's evaluate the linearity and velocities of our fake"
   ]
  },
  {
   "cell_type": "code",
   "execution_count": null,
   "metadata": {},
   "outputs": [],
   "source": [
    "CURR_ORBIT_ID = 4661373"
   ]
  },
  {
   "cell_type": "code",
   "execution_count": null,
   "metadata": {},
   "outputs": [],
   "source": [
    "def evaluate_fake(fake_table, fake_orbit_id, verbose=True):\n",
    "    our_fake = fake_table[fake_table[\"ORBITID\"] == fake_orbit_id]\n",
    "\n",
    "    our_fake.sort(\"mjd_mid\")\n",
    "    fake_x, fake_y = wu.wcs.world_to_pixel(SkyCoord(ra=our_fake[fakes_guess_ra]*u.deg, dec=our_fake[fakes_guess_dec]*u.degree))\n",
    "\n",
    "    A = np.vstack([fake_x, np.ones(len(fake_x))]).T\n",
    "    m, c = np.linalg.lstsq(A, fake_y, rcond=None)[0]\n",
    "\n",
    "    # Make predictions\n",
    "    y_pred = m * fake_x + c\n",
    "\n",
    "    # Compute R-squared\n",
    "    ss_res = np.sum((fake_y - y_pred) ** 2)\n",
    "    ss_tot = np.sum((fake_y - np.mean(fake_y)) ** 2)\n",
    "    r_squared = 1 - (ss_res / ss_tot)\n",
    "    \n",
    "    elapsed_time = our_fake[\"mjd_mid\"][-1] - our_fake[\"mjd_mid\"][0]\n",
    "    fake_vx = float(fake_x[-1] - fake_x[0]) / elapsed_time\n",
    "    fake_vy = float(fake_y[-1] - fake_y[0]) / elapsed_time\n",
    "    fake_v = math.sqrt(fake_vx*fake_vx + fake_vy*fake_vy)\n",
    "\n",
    "    print(f'For fake ORBITID={fake_orbit_id}, R^2={r_squared} and its pixel/day velocities are vx={fake_vx} vy={fake_vy}, v={fake_v}')\n",
    "    return r_squared, fake_vx, fake_vy, fake_v\n",
    "    \n",
    "\n",
    "evaluate_fake(fakes, CURR_ORBIT_ID)"
   ]
  },
  {
   "cell_type": "markdown",
   "metadata": {},
   "source": [
    "# Plot Fake by Day"
   ]
  },
  {
   "cell_type": "code",
   "execution_count": null,
   "metadata": {},
   "outputs": [],
   "source": [
    "def manual_coadd(stamps, stamp_indices, plot_me=False):\n",
    "    # Manually coadds stsmps\n",
    "    result_stamp = stamps[stamp_indices[0]].image.copy()\n",
    "    for i in stamp_indices[1:]:\n",
    "        result_stamp += stamps[i].image\n",
    "    if plot_me:\n",
    "        plt.imshow(result_stamp, cmap='grey')\n",
    "    return result_stamp\n",
    "\n",
    "def plot_daily_fake_stamps(stack, fakes_table, fake_orbit_id):\n",
    "    # Pull the sorted fakes table\n",
    "    our_fake = fakes_table[fakes_table[\"ORBITID\"] == fake_orbit_id]\n",
    "    our_fake.sort(\"mjd_mid\")\n",
    "    \n",
    "    fake_x, fake_y = wu.wcs.world_to_pixel(SkyCoord(ra=our_fake[fakes_guess_ra]*u.deg, dec=our_fake[fakes_guess_dec]*u.degree))\n",
    "    \n",
    "    imgs = stack.get_images()\n",
    "    \n",
    "    stack_obstimes = [imgs[i].get_obstime() for i in range(len(imgs))]\n",
    "    fake_times = our_fake[\"mjd_mid\"]\n",
    "\n",
    "    # Match to the closest times\n",
    "    epsilon = 0.01\n",
    "    closest_times = [-1 for i in fake_times] # List indices in the image stack with the closest obstime to our fake time\n",
    "    for i in range(len(fake_times)):\n",
    "        curr_fake_time = fake_times[i]\n",
    "        for j in range(len(stack_obstimes)):\n",
    "            old_closest_time = stack_obstimes[closest_times[i]]\n",
    "            curr_time = stack_obstimes[j]\n",
    "            curr_diff = abs(curr_time - curr_fake_time)\n",
    "            if curr_diff <= epsilon:\n",
    "                if closest_times[i] == -1 or curr_diff < abs(old_closest_time - curr_fake_time):\n",
    "                    closest_times[i] = j\n",
    "    \n",
    "    # Generate fake_stamps\n",
    "    fake_stamps = []\n",
    "    for i in range(len(closest_times)):\n",
    "        if closest_times[i] != -1:\n",
    "            curr_img = imgs[closest_times[i]].get_science()\n",
    "            fake_stamps.append(curr_img.create_stamp(fake_x[i], fake_y[i], 10, False))\n",
    "    \n",
    "    # Plot the coads for the whole and all days\n",
    "    img_to_plot = [manual_coadd(fake_stamps, range(len(fake_stamps)), plot_me=False)]\n",
    "    labels = [f'ORBITID={fake_orbit_id}']\n",
    "    for day in set([int(x) for x in fake_times]):\n",
    "        current_idx = []\n",
    "        for i in range(len(closest_times)):\n",
    "            if int(imgs[closest_times[i]].get_obstime()) == day: #fake_times[i] == day:\n",
    "                current_idx.append(i)\n",
    "        img_to_plot.append(manual_coadd(fake_stamps, current_idx, plot_me=False))\n",
    "        labels.append(str(day))\n",
    "    plot_multiple_images(img_to_plot, labels=labels) \n",
    "\n",
    "plot_daily_fake_stamps(stack, fakes, CURR_ORBIT_ID)"
   ]
  },
  {
   "cell_type": "markdown",
   "metadata": {},
   "source": [
    "# Plot a Given KBMOD Result Trajectory Alongside a Given Fake"
   ]
  },
  {
   "cell_type": "markdown",
   "metadata": {},
   "source": [
    "In the next cell we provide a variety of helper functions for evaluating a KBMOD trajectory alongside a given fake"
   ]
  },
  {
   "cell_type": "code",
   "execution_count": null,
   "metadata": {},
   "outputs": [],
   "source": [
    "def get_x_y_from_trj(idx, result_table, trajectories, times):\n",
    "    dt = np.array(times)\n",
    "    dt -= dt[0]\n",
    "\n",
    "    trj = trajectories[idx]\n",
    "    # Predict locations in pixel space.\n",
    "    x_vals = trj.x + trj.vx * dt\n",
    "    y_vals = trj.y + trj.vy * dt\n",
    "\n",
    "    return x_vals, y_vals\n",
    "\n",
    "def plot_res_traj(result_table, res_idx, trajectories):\n",
    "    valid_obstimes = []\n",
    "    for i in range(len(result_table[res_idx][\"obs_valid\"])):\n",
    "        if result_table[res_idx][\"obs_valid\"][i]:\n",
    "            valid_obstimes.append(stack.get_obstime(i))\n",
    "    \n",
    "    res_x, res_y = get_x_y_from_trj(res_idx, result_table, trajectories, valid_obstimes)\n",
    "    \n",
    "    min_date = min(valid_obstimes)\n",
    "    max_date = max(valid_obstimes)\n",
    "    day_sep = int(max_date) - int(min_date)\n",
    "\n",
    "    kbmod_plt = plt.scatter(res_x, res_y, color='blue', label=\"KBMOD trajectory\", marker='.')\n",
    "    plt.xlabel('X (pixels)')\n",
    "    plt.ylabel('Y (pixels)')\n",
    "    plt.title(f'KBMOD Result Trajectory {res_idx} ({day_sep} day separation)')\n",
    "    plt.show()\n",
    "\n",
    "def plot_fake(fake_table, orbit_id):\n",
    "    our_fake = fake_table[fake_table[\"ORBITID\"] == orbit_id]\n",
    "    fake_x, fake_y = wu.wcs.world_to_pixel(SkyCoord(ra=our_fake[fakes_guess_ra]*u.deg, dec=our_fake[fakes_guess_dec]*u.degree))\n",
    "    \n",
    "    min_date = min(our_fake[\"mjd_mid\"])\n",
    "    max_date = max(our_fake[\"mjd_mid\"])\n",
    "    day_sep = int(max_date) - int(min_date)\n",
    "\n",
    "    fake_plt = plt.scatter(fake_x, fake_y, color='red', label=\"fakes\", marker='.')\n",
    "    plt.xlabel('X (pixels)')\n",
    "    plt.ylabel('Y (pixels)')\n",
    "    plt.title(f'Fake ORBIT_ID={orbit_id} ({day_sep} day separation)')\n",
    "    plt.show()\n",
    "    \n",
    "def plot_fake_ra_dec(fake_table, orbit_id):\n",
    "    our_fake = fake_table[fake_table[\"ORBITID\"] == orbit_id]\n",
    "    #fake_x, fake_y = SkyCoord(ra=our_fake[fakes_guess_ra]*u.deg, dec=our_fake[fakes_guess_dec]*u.degree)\n",
    "    \n",
    "    min_date = min(our_fake[\"mjd_mid\"])\n",
    "    max_date = max(our_fake[\"mjd_mid\"])\n",
    "    day_sep = int(max_date) - int(min_date)\n",
    "\n",
    "    fake_plt = plt.scatter(our_fake[fakes_guess_ra], our_fake[fakes_guess_dec], color='red', label=\"fakes\", marker='.')\n",
    "    plt.xlabel('ra (degrees)')\n",
    "    plt.ylabel('dec (degrees)')\n",
    "    plt.title(f'Fake ORBIT_ID={orbit_id} ({day_sep} day separation)')\n",
    "    plt.show()\n",
    "    \n",
    "def plot_fake_ra_dec_single_night(fake_table, orbit_id, night):\n",
    "    our_fake = fake_table[fake_table[\"ORBITID\"] == orbit_id]\n",
    "    our_fake =  our_fake[our_fake[\"local_obsnight\"] == night]\n",
    "    #fake_x, fake_y = SkyCoord(ra=our_fake[fakes_guess_ra]*u.deg, dec=our_fake[fakes_guess_dec]*u.degree)\n",
    "    \n",
    "    min_date = min(our_fake[\"mjd_mid\"])\n",
    "    max_date = max(our_fake[\"mjd_mid\"])\n",
    "    day_sep = int(max_date) - int(min_date)\n",
    "\n",
    "    fake_plt = plt.scatter(our_fake[fakes_guess_ra], our_fake[fakes_guess_dec], color='red', label=\"fakes\", marker='.')\n",
    "    plt.xlabel('ra (degrees)')\n",
    "    plt.ylabel('dec (degrees)')\n",
    "    plt.title(f'Fake ORBIT_ID={orbit_id} ({night})')\n",
    "    plt.show()\n",
    "    \n",
    "def plot_fake_x_y_single_night(fake_table, orbit_id, night):\n",
    "    our_fake = fake_table[fake_table[\"ORBITID\"] == orbit_id]\n",
    "    our_fake =  our_fake[our_fake[\"local_obsnight\"] == night]\n",
    "    fake_x, fake_y = wu.wcs.world_to_pixel(SkyCoord(ra=our_fake[fakes_guess_ra]*u.deg, dec=our_fake[fakes_guess_dec]*u.degree))\n",
    "    \n",
    "    min_date = min(our_fake[\"mjd_mid\"])\n",
    "    max_date = max(our_fake[\"mjd_mid\"])\n",
    "    day_sep = int(max_date) - int(min_date)\n",
    "\n",
    "    fake_plt = plt.scatter(fake_x, fake_y, color='red', label=\"fakes\", marker='.')\n",
    "    plt.xlabel('ra (degrees)')\n",
    "    plt.ylabel('dec (degrees)')\n",
    "    plt.title(f'Fake ORBIT_ID={orbit_id} ({night})')\n",
    "    plt.show()\n",
    "    \n",
    "    \n",
    "def plot_res_traj_and_fake(result_table, res_idx, trajectories, fake_table, orbit_id):\n",
    "    \n",
    "    valid_obstimes = []\n",
    "    for i in range(len(result_table[res_idx][\"obs_valid\"])):\n",
    "        if result_table[res_idx][\"obs_valid\"][i]:\n",
    "            valid_obstimes.append(stack.get_obstime(i))\n",
    "    \n",
    "    res_x, res_y = get_x_y_from_trj(res_idx, result_table, trajectories, valid_obstimes)\n",
    "    \n",
    "    our_fake = fake_table[fake_table[\"ORBITID\"] == orbit_id]\n",
    "    fake_x, fake_y = wu.wcs.world_to_pixel(SkyCoord(ra=our_fake[fakes_guess_ra]*u.deg, dec=our_fake[fakes_guess_dec]*u.degree))\n",
    "    \n",
    "    min_date = min(min(valid_obstimes), min(our_fake[\"mjd_mid\"]))\n",
    "    max_date = max(max(valid_obstimes), max(our_fake[\"mjd_mid\"]))\n",
    "    day_sep = int(max_date) - int(min_date)\n",
    "\n",
    "    kbmod_plt = plt.scatter(res_x, res_y, color='blue', label=\"KBMOD trajectory\", marker='|',  alpha=0.5)\n",
    "    fake_plt = plt.scatter(fake_x, fake_y, color='red', label=\"fakes\", marker='_',  alpha=0.5)\n",
    "    plt.xlabel('X (pixels)')\n",
    "    plt.ylabel('Y (pixels)')\n",
    "    plt.title(f'KBMOD Result Trajectory {res_idx} vs Fake ORBIT_ID={orbit_id} ({day_sep} day separation)')\n",
    "    plt.legend((kbmod_plt, fake_plt), (\"KBMOD trajectory\", \"fake\"))\n",
    "    plt.show()\n",
    "    \n",
    "    \n",
    "def plot_fake_ra_dec_sanity(fake_table, orbit_id):\n",
    "    our_fake = fake_table[fake_table[\"ORBITID\"] == orbit_id]\n",
    "    our_fake.sort(\"mjd_mid\")\n",
    "    our_fake = our_fake[:90]\n",
    "    #our_fake =  fake_table[fake_table[\"local_obsnight\"] == night]\n",
    "    #fake_x, fake_y = SkyCoord(ra=our_fake[fakes_guess_ra]*u.deg, dec=our_fake[fakes_guess_dec]*u.degree)\n",
    "    \n",
    "    min_date = min(our_fake[\"mjd_mid\"])\n",
    "    max_date = max(our_fake[\"mjd_mid\"])\n",
    "    day_sep = int(max_date) - int(min_date)\n",
    "\n",
    "    fake_plt = plt.scatter(our_fake[fakes_guess_ra], our_fake[fakes_guess_dec], color='red', label=\"fakes\", marker='.')\n",
    "    plt.xlabel('ra (degrees)')\n",
    "    plt.ylabel('dec (degrees)')\n",
    "    plt.title(f'Fake ORBIT_ID={orbit_id})')\n",
    "    plt.show()\n"
   ]
  },
  {
   "cell_type": "code",
   "execution_count": null,
   "metadata": {},
   "outputs": [],
   "source": [
    "plot_fake(fakes, CURR_ORBIT_ID)"
   ]
  },
  {
   "cell_type": "markdown",
   "metadata": {},
   "source": [
    "## Plot the result and fake trajectories"
   ]
  },
  {
   "cell_type": "code",
   "execution_count": null,
   "metadata": {},
   "outputs": [],
   "source": [
    "plot_res_traj_and_fake(results, 237, trajectories, fakes, CURR_ORBIT_ID)"
   ]
  },
  {
   "cell_type": "code",
   "execution_count": null,
   "metadata": {},
   "outputs": [],
   "source": [
    "plot_fake_ra_dec(fakes, CURR_ORBIT_ID)"
   ]
  },
  {
   "cell_type": "code",
   "execution_count": null,
   "metadata": {},
   "outputs": [],
   "source": [
    "plot_fake_x_y_single_night(fakes, CURR_ORBIT_ID, \"2019-04-02\")"
   ]
  },
  {
   "cell_type": "code",
   "execution_count": null,
   "metadata": {},
   "outputs": [],
   "source": [
    "plot_fake_x_y_single_night(fakes, CURR_ORBIT_ID, \"2019-04-02\")"
   ]
  },
  {
   "cell_type": "code",
   "execution_count": null,
   "metadata": {},
   "outputs": [],
   "source": [
    "plot_fake_x_y_single_night(fakes, CURR_ORBIT_ID, \"2019-05-07\")"
   ]
  },
  {
   "cell_type": "code",
   "execution_count": null,
   "metadata": {},
   "outputs": [],
   "source": [
    "\n"
   ]
  }
 ],
 "metadata": {
  "kernelspec": {
   "display_name": "Wilson KBMOD New WU",
   "language": "python",
   "name": "wbeebe_kbmod_new_wu"
  },
  "language_info": {
   "codemirror_mode": {
    "name": "ipython",
    "version": 3
   },
   "file_extension": ".py",
   "mimetype": "text/x-python",
   "name": "python",
   "nbconvert_exporter": "python",
   "pygments_lexer": "ipython3",
   "version": "3.12.3"
  }
 },
 "nbformat": 4,
 "nbformat_minor": 4
}
